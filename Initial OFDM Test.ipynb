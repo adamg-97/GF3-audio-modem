{
 "cells": [
  {
   "cell_type": "markdown",
   "metadata": {},
   "source": [
    "# Test of OFDM Class"
   ]
  },
  {
   "cell_type": "code",
   "execution_count": 1,
   "metadata": {},
   "outputs": [],
   "source": [
    "from OFDM import *"
   ]
  },
  {
   "cell_type": "markdown",
   "metadata": {},
   "source": [
    "Define the OFDM Modulation scheme using:\n",
    "\n",
    "CamG(subcarriers, cyclic prefix, modulation method, pilot=0)"
   ]
  },
  {
   "cell_type": "code",
   "execution_count": 2,
   "metadata": {},
   "outputs": [],
   "source": [
    "test = CamG(64, 16, \"QPSK\")"
   ]
  },
  {
   "cell_type": "markdown",
   "metadata": {},
   "source": [
    "Generate some random bits the length of the OFDM symbol"
   ]
  },
  {
   "cell_type": "code",
   "execution_count": 3,
   "metadata": {},
   "outputs": [
    {
     "name": "stdout",
     "output_type": "stream",
     "text": [
      "Bit count:  128\n"
     ]
    }
   ],
   "source": [
    "bits = np.random.binomial(n=1, p=0.5, size=(test.bits_per_symbol, ))\n",
    "print (\"Bit count: \", len(bits))"
   ]
  },
  {
   "cell_type": "markdown",
   "metadata": {},
   "source": [
    "## Transmitter\n",
    "Convert them to parallel stream\n",
    "\n",
    "(this only currently works when the length of bits = number of data carriers x bits per constellation symbol i.e. we only transmit one OFDM symbol)"
   ]
  },
  {
   "cell_type": "code",
   "execution_count": 4,
   "metadata": {},
   "outputs": [
    {
     "name": "stdout",
     "output_type": "stream",
     "text": [
      "(64, 2)\n"
     ]
    }
   ],
   "source": [
    "bits_SP = test.SP(bits)\n",
    "print(bits_SP.shape)"
   ]
  },
  {
   "cell_type": "markdown",
   "metadata": {},
   "source": [
    "Map them to symbols using the determined modulation scheme"
   ]
  },
  {
   "cell_type": "code",
   "execution_count": 5,
   "metadata": {},
   "outputs": [
    {
     "name": "stdout",
     "output_type": "stream",
     "text": [
      "First 5 symbols and bits:\n",
      "[[1 1]\n",
      " [0 1]\n",
      " [1 0]\n",
      " [0 1]\n",
      " [1 1]]\n",
      "[-0.70710678-0.70710678j  0.70710678-0.70710678j -0.70710678+0.70710678j\n",
      "  0.70710678-0.70710678j -0.70710678-0.70710678j]\n"
     ]
    }
   ],
   "source": [
    "QPSK = test.map(bits_SP)\n",
    "print (\"First 5 symbols and bits:\")\n",
    "print (bits_SP[:5,:])\n",
    "print (QPSK[:5])"
   ]
  },
  {
   "cell_type": "markdown",
   "metadata": {},
   "source": [
    "Map onto carriers with pilot symbols"
   ]
  },
  {
   "cell_type": "code",
   "execution_count": 6,
   "metadata": {},
   "outputs": [
    {
     "name": "stdout",
     "output_type": "stream",
     "text": [
      "Number of OFDM carrieres in frequency domain: 64\n"
     ]
    }
   ],
   "source": [
    "OFDM_data = test.OFDM_symbol(QPSK)\n",
    "print(\"Number of OFDM carrieres in frequency domain:\", len(OFDM_data))"
   ]
  },
  {
   "cell_type": "markdown",
   "metadata": {},
   "source": [
    "Compute IDFT of signal data and add CP"
   ]
  },
  {
   "cell_type": "code",
   "execution_count": 7,
   "metadata": {},
   "outputs": [
    {
     "name": "stdout",
     "output_type": "stream",
     "text": [
      "Number of OFDM samples in time domain with CP:  80\n"
     ]
    }
   ],
   "source": [
    "OFDM_time = IFFT(OFDM_data)\n",
    "OFDM_with_cp = test.add_cp(OFDM_time)\n",
    "print (\"Number of OFDM samples in time domain with CP: \", len(OFDM_with_cp))"
   ]
  },
  {
   "cell_type": "markdown",
   "metadata": {},
   "source": [
    "## Receiver\n",
    "Remove the CP and compute the FFT"
   ]
  },
  {
   "cell_type": "code",
   "execution_count": 8,
   "metadata": {
    "collapsed": true
   },
   "outputs": [],
   "source": [
    "OFDM_rx = OFDM_with_cp\n",
    "OFDM_rx = test.remove_cp(OFDM_rx)\n",
    "OFDM_demod = FFT(OFDM_rx)"
   ]
  },
  {
   "cell_type": "markdown",
   "metadata": {},
   "source": [
    "Estimate the channel coefficients and equalise the demodulated OFDM symbol\n",
    "\n",
    "We'll just assume the channel is ideal for now - channel estimation not yet implemented"
   ]
  },
  {
   "cell_type": "code",
   "execution_count": 9,
   "metadata": {},
   "outputs": [],
   "source": [
    "h_est = np.ones(len(test.all_carriers))\n",
    "OFDM_demod = equalise(OFDM_demod,h_est)"
   ]
  },
  {
   "cell_type": "markdown",
   "metadata": {},
   "source": [
    "Extract the data carriers and disguard the pilot values"
   ]
  },
  {
   "cell_type": "code",
   "execution_count": 10,
   "metadata": {},
   "outputs": [],
   "source": [
    "QPSK_est = test.get_data(OFDM_demod)"
   ]
  },
  {
   "cell_type": "markdown",
   "metadata": {},
   "source": [
    "Demap the constellation symbols to bits using minimum distance rule"
   ]
  },
  {
   "cell_type": "code",
   "execution_count": 11,
   "metadata": {},
   "outputs": [],
   "source": [
    "bits_PS, descision_symbols = test.demap(QPSK_est)"
   ]
  },
  {
   "cell_type": "markdown",
   "metadata": {},
   "source": [
    "Convert parallel streams to serial data stream"
   ]
  },
  {
   "cell_type": "code",
   "execution_count": 12,
   "metadata": {},
   "outputs": [],
   "source": [
    "decoded_bits = test.PS(bits_PS)"
   ]
  },
  {
   "cell_type": "markdown",
   "metadata": {},
   "source": [
    "Check to see if we received what we transmitted"
   ]
  },
  {
   "cell_type": "code",
   "execution_count": 17,
   "metadata": {},
   "outputs": [],
   "source": [
    "np.testing.assert_array_equal(decoded_bits,bits)"
   ]
  },
  {
   "cell_type": "code",
   "execution_count": null,
   "metadata": {
    "collapsed": true
   },
   "outputs": [],
   "source": []
  }
 ],
 "metadata": {
  "kernelspec": {
   "display_name": "Python 3",
   "language": "python",
   "name": "python3"
  },
  "language_info": {
   "codemirror_mode": {
    "name": "ipython",
    "version": 3
   },
   "file_extension": ".py",
   "mimetype": "text/x-python",
   "name": "python",
   "nbconvert_exporter": "python",
   "pygments_lexer": "ipython3",
   "version": "3.6.1"
  }
 },
 "nbformat": 4,
 "nbformat_minor": 2
}
