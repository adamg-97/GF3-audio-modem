{
 "cells": [
  {
   "cell_type": "code",
   "execution_count": 1,
   "metadata": {},
   "outputs": [],
   "source": [
    "from OFDM import *\n",
    "%matplotlib inline"
   ]
  },
  {
   "cell_type": "code",
   "execution_count": 2,
   "metadata": {},
   "outputs": [],
   "source": [
    "known_seq_dec = np.genfromtxt(\"handouts/week_2_challenge/a7r56tu_knownseq.csv\", delimiter=r\"\\s+\")\n",
    "\n",
    "known_seq = np.array([])\n",
    "\n",
    "for b in known_seq_dec:\n",
    "    x = format(int(b),'02b')\n",
    "    for i in x:\n",
    "        known_seq = np.append(known_seq, int(i))"
   ]
  },
  {
   "cell_type": "markdown",
   "metadata": {},
   "source": [
    "# Question 1"
   ]
  },
  {
   "cell_type": "code",
   "execution_count": 3,
   "metadata": {},
   "outputs": [],
   "source": [
    "rx = receiver(ofdm_symbol_size= 4096, cp_length=0, modulation=\"QPSK\", fs=48000, end_chirp=False)\n",
    "rx.gap_length = 4096"
   ]
  },
  {
   "cell_type": "code",
   "execution_count": 4,
   "metadata": {},
   "outputs": [],
   "source": [
    "fs, signal = wavfile.read(\"handouts/week_2_challenge/a7r56tu_received.wav\")\n",
    "rx.fs = fs\n",
    "signal = signal / 30000"
   ]
  },
  {
   "cell_type": "code",
   "execution_count": 5,
   "metadata": {},
   "outputs": [
    {
     "name": "stdout",
     "output_type": "stream",
     "text": [
      "------------------------------------------\n",
      "Receive \n",
      "------------------------------------------\n",
      "OFDM Paramters:\n",
      "Number of actual Sub Carriers:      2047 \n",
      "Cyclic prefix length:               0 \n",
      "Modulation method:                  QPSK\n",
      "Number of received OFDM symbols:    2894\n",
      "Number of received bits:            11848036\n"
     ]
    }
   ],
   "source": [
    "rx_bits = rx.receive(signal)"
   ]
  },
  {
   "cell_type": "code",
   "execution_count": 6,
   "metadata": {},
   "outputs": [
    {
     "name": "stdout",
     "output_type": "stream",
     "text": [
      "File Name: a7r56tu.gif\n",
      "File Size: 1476376\n"
     ]
    }
   ],
   "source": [
    "save_file(rx_bits)"
   ]
  },
  {
   "cell_type": "markdown",
   "metadata": {},
   "source": [
    "# Question 2"
   ]
  },
  {
   "cell_type": "code",
   "execution_count": null,
   "metadata": {},
   "outputs": [],
   "source": []
  }
 ],
 "metadata": {
  "kernelspec": {
   "display_name": "Python 3",
   "language": "python",
   "name": "python3"
  },
  "language_info": {
   "codemirror_mode": {
    "name": "ipython",
    "version": 3
   },
   "file_extension": ".py",
   "mimetype": "text/x-python",
   "name": "python",
   "nbconvert_exporter": "python",
   "pygments_lexer": "ipython3",
   "version": "3.6.1"
  }
 },
 "nbformat": 4,
 "nbformat_minor": 4
}
